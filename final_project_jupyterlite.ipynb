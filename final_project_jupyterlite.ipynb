{
 "cells": [
  {
   "cell_type": "markdown",
   "id": "9528ca2a",
   "metadata": {},
   "source": [
    "# 📘 My Final Project - Data Science Tools and Ecosystem"
   ]
  },
  {
   "cell_type": "markdown",
   "id": "6f1cf393",
   "metadata": {},
   "source": [
    "In this notebook, I will summarize what I learned in the course 'Tools for Data Science.' This includes data science languages, libraries, tools, and basic arithmetic in code cells."
   ]
  },
  {
   "cell_type": "markdown",
   "id": "a27b3f4d",
   "metadata": {},
   "source": [
    "**Common Data Science Languages:**\n",
    "- Python\n",
    "- R\n",
    "- SQL\n",
    "- Scala\n",
    "- Julia"
   ]
  },
  {
   "cell_type": "markdown",
   "id": "10bd1d9e",
   "metadata": {},
   "source": [
    "**Popular Data Science Libraries:**\n",
    "- NumPy\n",
    "- Pandas\n",
    "- ggplot2\n",
    "- Scikit-learn\n",
    "- Matplotlib"
   ]
  },
  {
   "cell_type": "markdown",
   "id": "7484faa3",
   "metadata": {},
   "source": [
    "| Tool              | Type                  |\n",
    "|------------------|-----------------------|\n",
    "| Jupyter Notebook | Notebook Environment  |\n",
    "| RStudio          | IDE                   |\n",
    "| Apache Spark     | Big Data Processing   |"
   ]
  },
  {
   "cell_type": "markdown",
   "id": "c04af317",
   "metadata": {},
   "source": [
    "Here is an example of an arithmetic expression:  \n",
    "**(3 + 5) * 2**"
   ]
  },
  {
   "cell_type": "code",
   "execution_count": 1,
   "id": "f99d8bc5",
   "metadata": {},
   "outputs": [
    {
     "data": {
      "text/plain": [
       "16"
      ]
     },
     "execution_count": 1,
     "metadata": {},
     "output_type": "execute_result"
    }
   ],
   "source": [
    "# Calculate (3 + 5) * 2\n",
    "(3 + 5) * 2"
   ]
  },
  {
   "cell_type": "code",
   "execution_count": 2,
   "id": "60ea2fdd",
   "metadata": {},
   "outputs": [
    {
     "data": {
      "text/plain": [
       "3.3333333333333335"
      ]
     },
     "execution_count": 2,
     "metadata": {},
     "output_type": "execute_result"
    }
   ],
   "source": [
    "# Convert 200 minutes to hours\n",
    "200 / 60"
   ]
  },
  {
   "cell_type": "markdown",
   "id": "189e31a2",
   "metadata": {},
   "source": [
    "**Objectives:**\n",
    "- List languages used in data science\n",
    "- Understand tools and libraries\n",
    "- Run arithmetic in code cells\n",
    "- Use JupyterLite to create and share notebooks"
   ]
  },
  {
   "cell_type": "markdown",
   "id": "b211a920",
   "metadata": {},
   "source": [
    "**Author:** Jihoon Lim"
   ]
  },
  {
   "cell_type": "markdown",
   "id": "777c0b4a",
   "metadata": {},
   "source": [
    "Here is the public GitHub link to my notebook:  \n",
    "[🔗 https://github.com/username/repo/blob/main/my_final_project.ipynb](https://github.com/Jihoon-Lim123/data-science-final-project)"
   ]
  }
 ],
 "metadata": {
  "kernelspec": {
   "display_name": "Python 3",
   "language": "python",
   "name": "python3"
  },
  "language_info": {
   "codemirror_mode": {
    "name": "ipython",
    "version": 3
   },
   "file_extension": ".py",
   "mimetype": "text/x-python",
   "name": "python",
   "nbconvert_exporter": "python",
   "pygments_lexer": "ipython3",
   "version": "3.13.3"
  }
 },
 "nbformat": 4,
 "nbformat_minor": 5
}
